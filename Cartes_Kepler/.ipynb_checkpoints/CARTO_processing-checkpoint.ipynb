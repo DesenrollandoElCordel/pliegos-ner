{
 "cells": [
  {
   "cell_type": "code",
   "execution_count": 1,
   "id": "59bbea27",
   "metadata": {},
   "outputs": [],
   "source": [
    "import pandas as pd"
   ]
  },
  {
   "cell_type": "code",
   "execution_count": 4,
   "id": "0316f093",
   "metadata": {},
   "outputs": [
    {
     "name": "stdout",
     "output_type": "stream",
     "text": [
      "Les remplacements ont été effectués et le fichier sauvegardé.\n"
     ]
    }
   ],
   "source": [
    "file_path = '/Users/pauline/Documents/DocumentsSandoz/Sandoz/pliegos-ner/moreno-ner/nerList_Moreno_enriched.csv'\n",
    "df = pd.read_csv(file_path)\n",
    "\n",
    "# Dictionnaire des remplacements\n",
    "replacements = {\n",
    "    'Historias': 'Textos Narrativos',\n",
    "    'Relaciones': 'Textos Narrativos',\n",
    "    'Relaciones de sucesos': 'Textos Narrativos',\n",
    "    'Romances': 'Textos Narrativos',\n",
    "    'Chascos': 'Textos Narrativos',\n",
    "    'Canciones': 'Poesías y Canciones',\n",
    "    'Coplas': 'Poesías y Canciones',\n",
    "    'Décimas': 'Poesías y Canciones',\n",
    "    'Glosas': 'Poesías y Canciones',\n",
    "    'Seguidillas': 'Poesías y Canciones',\n",
    "    'Trovos': 'Poesías y Canciones',\n",
    "    'Villancicos': 'Poesías y Canciones',\n",
    "    'Jácaras': 'Poesías y Canciones',\n",
    "    'Chistes': 'Poesías y Canciones',\n",
    "    'Sainetes': 'Textos Dramáticos y Teatrales',\n",
    "    'Diálogos': 'Textos Dramáticos y Teatrales',\n",
    "    'Coloquios': 'Textos Dramáticos y Teatrales',\n",
    "    'Pasillos': 'Textos Dramáticos y Teatrales',\n",
    "    'Entremeses': 'Textos Dramáticos y Teatrales',\n",
    "    'Matracas': 'Textos Dramáticos y Teatrales',\n",
    "    'Cartas': 'Textos Diversos',\n",
    "    'Evangelios': 'Textos Diversos',\n",
    "    'Recetas': 'Textos Diversos',\n",
    "    'Oraciones': 'Textos Diversos',\n",
    "    'Testamentos': 'Textos Diversos',\n",
    "    'Sátiras': 'Textos Diversos'\n",
    "}\n",
    "\n",
    "# Remplacer les valeurs\n",
    "df['type_text'] = df['type_text'].replace(replacements)\n",
    "\n",
    "# Sauvegarder le fichier modifié\n",
    "output_path = '/Users/pauline/Documents/DocumentsSandoz/Sandoz/pliegos-ner/moreno-ner/Ner_Moreno_Typtext.csv'\n",
    "df.to_csv(output_path, index=False)\n",
    "\n",
    "print(\"Les remplacements ont été effectués et le fichier sauvegardé.\")"
   ]
  },
  {
   "cell_type": "code",
   "execution_count": 2,
   "id": "6043b1e2",
   "metadata": {},
   "outputs": [
    {
     "name": "stdout",
     "output_type": "stream",
     "text": [
      "Le fichier résultat a été créé avec succès.\n"
     ]
    }
   ],
   "source": [
    "# Charger le fichier CSV\n",
    "file_path = '/Users/pauline/Documents/DocumentsSandoz/Sandoz/pliegos-ner/moreno-ner/Ner_Moreno_Typtext.csv'\n",
    "df = pd.read_csv(file_path)\n",
    "\n",
    "# Grouper les données par 'normalized_name' et calculer le type de texte le plus fréquent\n",
    "grouped = df.groupby('normalized_name')\n",
    "most_frequent_text_type = grouped['type_text'].agg(lambda x: x.value_counts().idxmax())\n",
    "\n",
    "# Créer un nouveau DataFrame avec les résultats\n",
    "results = pd.DataFrame({\n",
    "    'normalized_name': most_frequent_text_type.index,\n",
    "    'type_text': most_frequent_text_type.values\n",
    "})\n",
    "\n",
    "# Extraire les coordonnées (longitude et latitude) sans les grouper\n",
    "# Prendre la première instance des coordonnées par 'normalized_name'\n",
    "first_instance = df.drop_duplicates(subset=['normalized_name'])\n",
    "coordinates = first_instance[['normalized_name', 'longitude', 'latitude']].set_index('normalized_name')\n",
    "\n",
    "# Joindre les coordonnées avec le DataFrame des résultats\n",
    "results = results.join(coordinates, on='normalized_name')\n",
    "\n",
    "# Sauvegarder le nouveau fichier CSV\n",
    "output_path = '/Users/pauline/Documents/DocumentsSandoz/Sandoz/pliegos-ner/Carto/ner_Moreno_typetext_city.csv'\n",
    "results.to_csv(output_path, index=False)\n",
    "\n",
    "print(\"Le fichier résultat a été créé avec succès.\")"
   ]
  },
  {
   "cell_type": "code",
   "execution_count": null,
   "id": "eaa64bb4",
   "metadata": {},
   "outputs": [],
   "source": []
  }
 ],
 "metadata": {
  "kernelspec": {
   "display_name": "Python 3 (ipykernel)",
   "language": "python",
   "name": "python3"
  },
  "language_info": {
   "codemirror_mode": {
    "name": "ipython",
    "version": 3
   },
   "file_extension": ".py",
   "mimetype": "text/x-python",
   "name": "python",
   "nbconvert_exporter": "python",
   "pygments_lexer": "ipython3",
   "version": "3.10.8"
  }
 },
 "nbformat": 4,
 "nbformat_minor": 5
}
