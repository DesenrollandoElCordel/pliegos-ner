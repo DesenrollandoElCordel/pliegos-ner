{
 "cells": [
  {
   "cell_type": "code",
   "execution_count": 1,
   "id": "ce213df5",
   "metadata": {},
   "outputs": [
    {
     "name": "stdout",
     "output_type": "stream",
     "text": [
      "2023-05-16 11:43:31,011 SequenceTagger predicts: Dictionary with 5 tags: O, S-LOC, B-LOC, E-LOC, I-LOC\n"
     ]
    }
   ],
   "source": [
    "from flair.data import Sentence \n",
    "from flair.models import SequenceTagger\n",
    "tagger = SequenceTagger.load(\"ner-bertSpanish-fineTuning2/final-model.pt\")\n",
    "import re\n",
    "import os"
   ]
  },
  {
   "cell_type": "code",
   "execution_count": 2,
   "id": "d2a996a7",
   "metadata": {},
   "outputs": [],
   "source": [
    "clean_unicode = {\n",
    "    \"B-ORG\": \"O\",\n",
    "    \"B-MISC\": \"O\",\n",
    "    \"B-PER\": \"O\",\n",
    "    \"I-ORG\": \"O\",\n",
    "    \"I-MISC\": \"O\",\n",
    "    \"I-PER\": \"O\"\n",
    "    \n",
    "}"
   ]
  },
  {
   "cell_type": "markdown",
   "id": "bf4e4970",
   "metadata": {},
   "source": [
    "## Corpus Moreno"
   ]
  },
  {
   "cell_type": "code",
   "execution_count": 10,
   "id": "1fa624af",
   "metadata": {},
   "outputs": [],
   "source": [
    "folder = 'moreno-txt'\n",
    "\n",
    "for f in os.listdir(folder):\n",
    "    if f.endswith('.txt'):\n",
    "        txt_path = os.path.join(folder, f)\n",
    "        label, ext = os.path.splitext(f)\n",
    "        with open(txt_path, encoding='utf-8') as t:\n",
    "            text = t.read()\n",
    "            text_normalized = \" \".join(text.split())\n",
    "            sentence = Sentence(text_normalized)\n",
    "            tagger.predict(sentence)\n",
    "            for entity in sentence.get_spans('ner'):\n",
    "                prefix = 'B-'\n",
    "                for token in entity:\n",
    "                    token.set_label('ner-bio', prefix + entity.tag)\n",
    "                    prefix = 'I-'\n",
    "            output = \"\"        \n",
    "            for token in sentence:\n",
    "                output += str(token.get_label('ner-bio'))\n",
    "                output += \"\\n\"\n",
    "            result = re.sub(r\"([A-Z]\\w+\\[[0-9]+\\]:\\s\\\")([A-Z a-z 0-9 .,?!:¿¡…\\'\\*´ `’‘℣Đ=æǝ°>\\—\\-\\_–\\(\\)\\¬\\«\\»;~óòáàâíìñéèúüùäëïöÀÁÉÈÊËÍÌÎÏÑÓÒÔÖÚÙÛÜ\\\"\\\"]+)(\\\"\\s→\\s)([A-Z-]*)(\\s\\([0-9 .]*\\))\", r\"\\2 \\4\", output)\n",
    "            for c in clean_unicode:\n",
    "                result = re.sub(c, clean_unicode[c], result)\n",
    "            with open ('moreno-ner/' + label + '.txt', 'w', encoding='utf-8') as x:\n",
    "                x.write(result)"
   ]
  },
  {
   "cell_type": "markdown",
   "id": "008293bc",
   "metadata": {},
   "source": [
    "## Varios Catalan"
   ]
  },
  {
   "cell_type": "code",
   "execution_count": 9,
   "id": "33bc5dee",
   "metadata": {},
   "outputs": [],
   "source": [
    "folder = 'varios-catalan'\n",
    "\n",
    "for f in os.listdir(folder):\n",
    "    if f.endswith('.txt'):\n",
    "        txt_path = os.path.join(folder, f)\n",
    "        label, ext = os.path.splitext(f)\n",
    "        with open(txt_path, encoding='utf-8') as t:\n",
    "            text = t.read()\n",
    "            text_normalized = \" \".join(text.split())\n",
    "            sentence = Sentence(text_normalized)\n",
    "            tagger.predict(sentence)\n",
    "            for entity in sentence.get_spans('ner'):\n",
    "                prefix = 'B-'\n",
    "                for token in entity:\n",
    "                    token.set_label('ner-bio', prefix + entity.tag)\n",
    "                    prefix = 'I-'\n",
    "            output = \"\"        \n",
    "            for token in sentence:\n",
    "                output += str(token.get_label('ner-bio'))\n",
    "                output += \"\\n\"\n",
    "            result = re.sub(r\"([A-Z]\\w+\\[[0-9]+\\]:\\s\\\")([A-Z a-z 0-9 .,?!:¿¡…\\'\\*´ `’‘℣Đ=æǝ°>\\—\\-\\_–\\(\\)\\¬\\«\\»;~óòáàâíìñéèúüùäëïöÀÁÉÈÊËÍÌÎÏÑÓÒÔÖÚÙÛÜ\\\"\\\"]+)(\\\"\\s→\\s)([A-Z-]*)(\\s\\([0-9 .]*\\))\", r\"\\2 \\4\", output)\n",
    "            for c in clean_unicode:\n",
    "                result = re.sub(c, clean_unicode[c], result)\n",
    "            with open ('varios-catalan-ner/' + label + '.txt', 'w', encoding='utf-8') as x:\n",
    "                x.write(result)"
   ]
  },
  {
   "cell_type": "code",
   "execution_count": null,
   "id": "2fc904ec",
   "metadata": {},
   "outputs": [],
   "source": []
  }
 ],
 "metadata": {
  "kernelspec": {
   "display_name": "Python 3 (ipykernel)",
   "language": "python",
   "name": "python3"
  },
  "language_info": {
   "codemirror_mode": {
    "name": "ipython",
    "version": 3
   },
   "file_extension": ".py",
   "mimetype": "text/x-python",
   "name": "python",
   "nbconvert_exporter": "python",
   "pygments_lexer": "ipython3",
   "version": "3.8.16"
  }
 },
 "nbformat": 4,
 "nbformat_minor": 5
}
