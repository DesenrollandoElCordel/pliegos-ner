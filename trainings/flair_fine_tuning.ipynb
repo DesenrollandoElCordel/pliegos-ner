{
 "cells": [
  {
   "cell_type": "code",
   "execution_count": 1,
   "id": "3a2c2be6",
   "metadata": {},
   "outputs": [],
   "source": [
    "from flair.data import Corpus\n",
    "from flair.datasets import ColumnCorpus\n",
    "from flair.embeddings import TransformerWordEmbeddings\n",
    "from flair.models import SequenceTagger\n",
    "from flair.trainers import ModelTrainer\n",
    "import torch, gc\n",
    "import os"
   ]
  },
  {
   "cell_type": "code",
   "execution_count": 2,
   "id": "ffae342a",
   "metadata": {},
   "outputs": [],
   "source": [
    "# flair.device = torch.device('cuda')\n",
    "# os.environ[\"PYTORCH_CUDA_ALLOC_CONF\"] = \"max_split_size_mb:40.00MiB\"\n",
    "torch.cuda.empty_cache()"
   ]
  },
  {
   "cell_type": "code",
   "execution_count": 3,
   "id": "d33e2623",
   "metadata": {},
   "outputs": [],
   "source": [
    "columns = {0: 'text', 1: 'ner'}"
   ]
  },
  {
   "cell_type": "code",
   "execution_count": 4,
   "id": "c4154144",
   "metadata": {},
   "outputs": [],
   "source": [
    "data_folder = 'corpus-extended'"
   ]
  },
  {
   "cell_type": "code",
   "execution_count": 5,
   "id": "6657f674",
   "metadata": {},
   "outputs": [
    {
     "name": "stdout",
     "output_type": "stream",
     "text": [
      "2023-05-11 11:39:51,356 Reading data from corpus-extended\n",
      "2023-05-11 11:39:51,356 Train: corpus-extended\\train.txt\n",
      "2023-05-11 11:39:51,356 Dev: corpus-extended\\dev.txt\n",
      "2023-05-11 11:39:51,356 Test: corpus-extended\\test.txt\n"
     ]
    }
   ],
   "source": [
    "corpus: Corpus = ColumnCorpus(data_folder, columns, train_file='train.txt', test_file='test.txt', dev_file='dev.txt')"
   ]
  },
  {
   "cell_type": "code",
   "execution_count": 6,
   "id": "4be1a399",
   "metadata": {},
   "outputs": [
    {
     "data": {
      "text/plain": [
       "2958"
      ]
     },
     "execution_count": 6,
     "metadata": {},
     "output_type": "execute_result"
    }
   ],
   "source": [
    "len(corpus.train)"
   ]
  },
  {
   "cell_type": "code",
   "execution_count": 7,
   "id": "7fceb02f",
   "metadata": {},
   "outputs": [],
   "source": [
    "label_type = 'ner'"
   ]
  },
  {
   "cell_type": "code",
   "execution_count": 8,
   "id": "257670c4",
   "metadata": {},
   "outputs": [],
   "source": [
    "# torch.cuda.is_available()"
   ]
  },
  {
   "cell_type": "code",
   "execution_count": 9,
   "id": "e5b11422",
   "metadata": {},
   "outputs": [
    {
     "name": "stdout",
     "output_type": "stream",
     "text": [
      "2023-05-11 11:39:52,189 Computing label dictionary. Progress:\n"
     ]
    },
    {
     "name": "stderr",
     "output_type": "stream",
     "text": [
      "2958it [00:00, 62565.25it/s]"
     ]
    },
    {
     "name": "stdout",
     "output_type": "stream",
     "text": [
      "2023-05-11 11:39:52,236 Dictionary created for label 'ner' with 1 values: LOC (seen 425 times)\n",
      "Dictionary with 1 tags: LOC\n"
     ]
    },
    {
     "name": "stderr",
     "output_type": "stream",
     "text": [
      "\n"
     ]
    }
   ],
   "source": [
    "label_dict = corpus.make_label_dictionary(label_type=label_type, add_unk=False)\n",
    "print(label_dict)"
   ]
  },
  {
   "cell_type": "code",
   "execution_count": 10,
   "id": "86dfb801",
   "metadata": {},
   "outputs": [],
   "source": [
    "embeddings = TransformerWordEmbeddings(model='mrm8488/bert-spanish-cased-finetuned-ner', layers='-1', subtoken_pooling='first', fine_tune=True, use_context=True, model_max_length=512)"
   ]
  },
  {
   "cell_type": "code",
   "execution_count": 11,
   "id": "6922c14d",
   "metadata": {},
   "outputs": [
    {
     "name": "stdout",
     "output_type": "stream",
     "text": [
      "2023-05-11 11:39:55,880 SequenceTagger predicts: Dictionary with 5 tags: O, S-LOC, B-LOC, E-LOC, I-LOC\n"
     ]
    }
   ],
   "source": [
    "tagger = SequenceTagger(hidden_size=256, embeddings=embeddings, tag_dictionary=label_dict, tag_type = 'ner', use_crf=False, use_rnn=False, reproject_embeddings=False)"
   ]
  },
  {
   "cell_type": "code",
   "execution_count": 12,
   "id": "b918bd6d",
   "metadata": {},
   "outputs": [],
   "source": [
    "trainer = ModelTrainer(tagger, corpus)\n",
    "# torch.cuda.memory_summary(device=None, abbreviated=False)"
   ]
  },
  {
   "cell_type": "code",
   "execution_count": 13,
   "id": "68565377",
   "metadata": {},
   "outputs": [
    {
     "name": "stdout",
     "output_type": "stream",
     "text": [
      "2023-05-11 11:39:56,069 ----------------------------------------------------------------------------------------------------\n",
      "2023-05-11 11:39:56,069 Model: \"SequenceTagger(\n",
      "  (embeddings): TransformerWordEmbeddings(\n",
      "    (model): BertModel(\n",
      "      (embeddings): BertEmbeddings(\n",
      "        (word_embeddings): Embedding(31003, 768)\n",
      "        (position_embeddings): Embedding(512, 768)\n",
      "        (token_type_embeddings): Embedding(2, 768)\n",
      "        (LayerNorm): LayerNorm((768,), eps=1e-12, elementwise_affine=True)\n",
      "        (dropout): Dropout(p=0.1, inplace=False)\n",
      "      )\n",
      "      (encoder): BertEncoder(\n",
      "        (layer): ModuleList(\n",
      "          (0-11): 12 x BertLayer(\n",
      "            (attention): BertAttention(\n",
      "              (self): BertSelfAttention(\n",
      "                (query): Linear(in_features=768, out_features=768, bias=True)\n",
      "                (key): Linear(in_features=768, out_features=768, bias=True)\n",
      "                (value): Linear(in_features=768, out_features=768, bias=True)\n",
      "                (dropout): Dropout(p=0.1, inplace=False)\n",
      "              )\n",
      "              (output): BertSelfOutput(\n",
      "                (dense): Linear(in_features=768, out_features=768, bias=True)\n",
      "                (LayerNorm): LayerNorm((768,), eps=1e-12, elementwise_affine=True)\n",
      "                (dropout): Dropout(p=0.1, inplace=False)\n",
      "              )\n",
      "            )\n",
      "            (intermediate): BertIntermediate(\n",
      "              (dense): Linear(in_features=768, out_features=3072, bias=True)\n",
      "              (intermediate_act_fn): GELUActivation()\n",
      "            )\n",
      "            (output): BertOutput(\n",
      "              (dense): Linear(in_features=3072, out_features=768, bias=True)\n",
      "              (LayerNorm): LayerNorm((768,), eps=1e-12, elementwise_affine=True)\n",
      "              (dropout): Dropout(p=0.1, inplace=False)\n",
      "            )\n",
      "          )\n",
      "        )\n",
      "      )\n",
      "      (pooler): BertPooler(\n",
      "        (dense): Linear(in_features=768, out_features=768, bias=True)\n",
      "        (activation): Tanh()\n",
      "      )\n",
      "    )\n",
      "  )\n",
      "  (locked_dropout): LockedDropout(p=0.5)\n",
      "  (linear): Linear(in_features=768, out_features=5, bias=True)\n",
      "  (loss_function): CrossEntropyLoss()\n",
      ")\"\n",
      "2023-05-11 11:39:56,069 ----------------------------------------------------------------------------------------------------\n",
      "2023-05-11 11:39:56,069 Corpus: \"Corpus: 2958 train + 433 dev + 641 test sentences\"\n",
      "2023-05-11 11:39:56,069 ----------------------------------------------------------------------------------------------------\n",
      "2023-05-11 11:39:56,069 Parameters:\n",
      "2023-05-11 11:39:56,069  - learning_rate: \"0.000005\"\n",
      "2023-05-11 11:39:56,069  - mini_batch_size: \"4\"\n",
      "2023-05-11 11:39:56,069  - patience: \"3\"\n",
      "2023-05-11 11:39:56,069  - anneal_factor: \"0.5\"\n",
      "2023-05-11 11:39:56,069  - max_epochs: \"20\"\n",
      "2023-05-11 11:39:56,069  - shuffle: \"True\"\n",
      "2023-05-11 11:39:56,069  - train_with_dev: \"False\"\n",
      "2023-05-11 11:39:56,069  - batch_growth_annealing: \"False\"\n",
      "2023-05-11 11:39:56,069 ----------------------------------------------------------------------------------------------------\n",
      "2023-05-11 11:39:56,069 Model training base path: \"ner-bertSpanish-fineTuning2\"\n",
      "2023-05-11 11:39:56,069 ----------------------------------------------------------------------------------------------------\n",
      "2023-05-11 11:39:56,069 Device: cuda:0\n",
      "2023-05-11 11:39:56,069 ----------------------------------------------------------------------------------------------------\n",
      "2023-05-11 11:39:56,069 Embeddings storage mode: none\n",
      "2023-05-11 11:39:56,069 ----------------------------------------------------------------------------------------------------\n",
      "2023-05-11 11:40:08,299 epoch 1 - iter 74/740 - loss 2.05312457 - time (sec): 12.23 - samples/sec: 605.21 - lr: 0.000000\n",
      "2023-05-11 11:40:19,970 epoch 1 - iter 148/740 - loss 1.91356443 - time (sec): 23.90 - samples/sec: 648.50 - lr: 0.000001\n",
      "2023-05-11 11:40:31,581 epoch 1 - iter 222/740 - loss 1.68915608 - time (sec): 35.51 - samples/sec: 646.29 - lr: 0.000001\n",
      "2023-05-11 11:40:43,592 epoch 1 - iter 296/740 - loss 1.36938153 - time (sec): 47.52 - samples/sec: 701.59 - lr: 0.000001\n",
      "2023-05-11 11:40:55,739 epoch 1 - iter 370/740 - loss 1.08610213 - time (sec): 59.67 - samples/sec: 740.59 - lr: 0.000001\n",
      "2023-05-11 11:41:07,465 epoch 1 - iter 444/740 - loss 0.96949114 - time (sec): 71.40 - samples/sec: 695.89 - lr: 0.000002\n",
      "2023-05-11 11:41:18,882 epoch 1 - iter 518/740 - loss 0.90883211 - time (sec): 82.81 - samples/sec: 640.41 - lr: 0.000002\n",
      "2023-05-11 11:41:30,867 epoch 1 - iter 592/740 - loss 0.78580294 - time (sec): 94.80 - samples/sec: 650.32 - lr: 0.000002\n",
      "2023-05-11 11:41:42,623 epoch 1 - iter 666/740 - loss 0.70739567 - time (sec): 106.55 - samples/sec: 643.64 - lr: 0.000002\n",
      "2023-05-11 11:41:54,477 epoch 1 - iter 740/740 - loss 0.64425716 - time (sec): 118.41 - samples/sec: 640.35 - lr: 0.000003\n",
      "2023-05-11 11:41:54,477 ----------------------------------------------------------------------------------------------------\n",
      "2023-05-11 11:41:54,477 EPOCH 1 done: loss 0.6443 - lr 0.000003\n"
     ]
    },
    {
     "name": "stderr",
     "output_type": "stream",
     "text": [
      "100%|██████████| 109/109 [00:05<00:00, 21.27it/s]"
     ]
    },
    {
     "name": "stdout",
     "output_type": "stream",
     "text": [
      "2023-05-11 11:41:59,602 Evaluating as a multi-label problem: False\n",
      "2023-05-11 11:41:59,612 DEV : loss 0.006225401069968939 - f1-score (micro avg)  0.76\n",
      "2023-05-11 11:41:59,622 ----------------------------------------------------------------------------------------------------\n"
     ]
    },
    {
     "name": "stderr",
     "output_type": "stream",
     "text": [
      "\n"
     ]
    },
    {
     "name": "stdout",
     "output_type": "stream",
     "text": [
      "2023-05-11 11:42:11,489 epoch 2 - iter 74/740 - loss 0.01368199 - time (sec): 11.87 - samples/sec: 615.20 - lr: 0.000003\n",
      "2023-05-11 11:42:23,119 epoch 2 - iter 148/740 - loss 0.01031842 - time (sec): 23.50 - samples/sec: 632.51 - lr: 0.000003\n",
      "2023-05-11 11:42:34,945 epoch 2 - iter 222/740 - loss 0.01105906 - time (sec): 35.32 - samples/sec: 624.18 - lr: 0.000003\n",
      "2023-05-11 11:42:46,718 epoch 2 - iter 296/740 - loss 0.01303970 - time (sec): 47.10 - samples/sec: 622.93 - lr: 0.000003\n",
      "2023-05-11 11:42:58,422 epoch 2 - iter 370/740 - loss 0.01282748 - time (sec): 58.80 - samples/sec: 615.18 - lr: 0.000004\n",
      "2023-05-11 11:43:10,067 epoch 2 - iter 444/740 - loss 0.01149612 - time (sec): 70.44 - samples/sec: 617.12 - lr: 0.000004\n",
      "2023-05-11 11:43:21,911 epoch 2 - iter 518/740 - loss 0.01205486 - time (sec): 82.29 - samples/sec: 624.81 - lr: 0.000004\n",
      "2023-05-11 11:43:33,755 epoch 2 - iter 592/740 - loss 0.01351841 - time (sec): 94.13 - samples/sec: 635.70 - lr: 0.000005\n",
      "2023-05-11 11:43:45,539 epoch 2 - iter 666/740 - loss 0.01323826 - time (sec): 105.92 - samples/sec: 637.98 - lr: 0.000005\n",
      "2023-05-11 11:43:57,287 epoch 2 - iter 740/740 - loss 0.01366162 - time (sec): 117.66 - samples/sec: 644.40 - lr: 0.000005\n",
      "2023-05-11 11:43:57,287 ----------------------------------------------------------------------------------------------------\n",
      "2023-05-11 11:43:57,287 EPOCH 2 done: loss 0.0137 - lr 0.000005\n"
     ]
    },
    {
     "name": "stderr",
     "output_type": "stream",
     "text": [
      "100%|██████████| 109/109 [00:05<00:00, 20.29it/s]"
     ]
    },
    {
     "name": "stdout",
     "output_type": "stream",
     "text": [
      "2023-05-11 11:44:02,660 Evaluating as a multi-label problem: False\n",
      "2023-05-11 11:44:02,668 DEV : loss 0.010048153810203075 - f1-score (micro avg)  0.7907\n",
      "2023-05-11 11:44:02,679 ----------------------------------------------------------------------------------------------------\n"
     ]
    },
    {
     "name": "stderr",
     "output_type": "stream",
     "text": [
      "\n"
     ]
    },
    {
     "name": "stdout",
     "output_type": "stream",
     "text": [
      "2023-05-11 11:44:14,405 epoch 3 - iter 74/740 - loss 0.01412140 - time (sec): 11.73 - samples/sec: 608.91 - lr: 0.000005\n",
      "2023-05-11 11:44:26,430 epoch 3 - iter 148/740 - loss 0.01049054 - time (sec): 23.75 - samples/sec: 609.20 - lr: 0.000005\n",
      "2023-05-11 11:44:38,725 epoch 3 - iter 222/740 - loss 0.01299173 - time (sec): 36.05 - samples/sec: 626.56 - lr: 0.000005\n",
      "2023-05-11 11:44:50,913 epoch 3 - iter 296/740 - loss 0.01148280 - time (sec): 48.23 - samples/sec: 619.64 - lr: 0.000005\n",
      "2023-05-11 11:45:02,771 epoch 3 - iter 370/740 - loss 0.01058718 - time (sec): 60.09 - samples/sec: 627.04 - lr: 0.000005\n",
      "2023-05-11 11:45:14,522 epoch 3 - iter 444/740 - loss 0.00951360 - time (sec): 71.84 - samples/sec: 634.53 - lr: 0.000005\n",
      "2023-05-11 11:45:26,192 epoch 3 - iter 518/740 - loss 0.00945694 - time (sec): 83.51 - samples/sec: 634.30 - lr: 0.000005\n",
      "2023-05-11 11:45:37,897 epoch 3 - iter 592/740 - loss 0.00978477 - time (sec): 95.22 - samples/sec: 635.12 - lr: 0.000005\n",
      "2023-05-11 11:45:49,532 epoch 3 - iter 666/740 - loss 0.01003837 - time (sec): 106.85 - samples/sec: 640.49 - lr: 0.000005\n",
      "2023-05-11 11:46:01,126 epoch 3 - iter 740/740 - loss 0.00976791 - time (sec): 118.45 - samples/sec: 640.14 - lr: 0.000005\n",
      "2023-05-11 11:46:01,136 ----------------------------------------------------------------------------------------------------\n",
      "2023-05-11 11:46:01,136 EPOCH 3 done: loss 0.0098 - lr 0.000005\n"
     ]
    },
    {
     "name": "stderr",
     "output_type": "stream",
     "text": [
      "100%|██████████| 109/109 [00:05<00:00, 20.28it/s]"
     ]
    },
    {
     "name": "stdout",
     "output_type": "stream",
     "text": [
      "2023-05-11 11:46:06,511 Evaluating as a multi-label problem: False\n",
      "2023-05-11 11:46:06,527 DEV : loss 0.008190130814909935 - f1-score (micro avg)  0.8444\n",
      "2023-05-11 11:46:06,536 ----------------------------------------------------------------------------------------------------\n"
     ]
    },
    {
     "name": "stderr",
     "output_type": "stream",
     "text": [
      "\n"
     ]
    },
    {
     "name": "stdout",
     "output_type": "stream",
     "text": [
      "2023-05-11 11:46:19,038 epoch 4 - iter 74/740 - loss 0.00810355 - time (sec): 12.50 - samples/sec: 608.49 - lr: 0.000005\n",
      "2023-05-11 11:46:31,085 epoch 4 - iter 148/740 - loss 0.00998128 - time (sec): 24.55 - samples/sec: 643.81 - lr: 0.000005\n",
      "2023-05-11 11:46:43,031 epoch 4 - iter 222/740 - loss 0.00984109 - time (sec): 36.49 - samples/sec: 635.25 - lr: 0.000005\n",
      "2023-05-11 11:46:54,758 epoch 4 - iter 296/740 - loss 0.00958026 - time (sec): 48.22 - samples/sec: 636.37 - lr: 0.000005\n",
      "2023-05-11 11:47:06,968 epoch 4 - iter 370/740 - loss 0.00812498 - time (sec): 60.43 - samples/sec: 643.04 - lr: 0.000005\n",
      "2023-05-11 11:47:19,317 epoch 4 - iter 444/740 - loss 0.00768579 - time (sec): 72.78 - samples/sec: 638.42 - lr: 0.000005\n",
      "2023-05-11 11:47:31,012 epoch 4 - iter 518/740 - loss 0.00700779 - time (sec): 84.48 - samples/sec: 637.09 - lr: 0.000005\n",
      "2023-05-11 11:47:42,517 epoch 4 - iter 592/740 - loss 0.00720648 - time (sec): 95.98 - samples/sec: 633.21 - lr: 0.000005\n",
      "2023-05-11 11:47:54,191 epoch 4 - iter 666/740 - loss 0.00685475 - time (sec): 107.65 - samples/sec: 633.30 - lr: 0.000004\n",
      "2023-05-11 11:48:05,775 epoch 4 - iter 740/740 - loss 0.00616714 - time (sec): 119.24 - samples/sec: 635.89 - lr: 0.000004\n",
      "2023-05-11 11:48:05,775 ----------------------------------------------------------------------------------------------------\n",
      "2023-05-11 11:48:05,775 EPOCH 4 done: loss 0.0062 - lr 0.000004\n"
     ]
    },
    {
     "name": "stderr",
     "output_type": "stream",
     "text": [
      "100%|██████████| 109/109 [00:05<00:00, 20.28it/s]"
     ]
    },
    {
     "name": "stdout",
     "output_type": "stream",
     "text": [
      "2023-05-11 11:48:11,161 Evaluating as a multi-label problem: False\n",
      "2023-05-11 11:48:11,161 DEV : loss 0.008882056921720505 - f1-score (micro avg)  0.8462\n",
      "2023-05-11 11:48:11,177 ----------------------------------------------------------------------------------------------------\n"
     ]
    },
    {
     "name": "stderr",
     "output_type": "stream",
     "text": [
      "\n"
     ]
    },
    {
     "name": "stdout",
     "output_type": "stream",
     "text": [
      "2023-05-11 11:48:23,343 epoch 5 - iter 74/740 - loss 0.00218251 - time (sec): 12.17 - samples/sec: 626.34 - lr: 0.000004\n",
      "2023-05-11 11:48:35,116 epoch 5 - iter 148/740 - loss 0.00140633 - time (sec): 23.94 - samples/sec: 624.75 - lr: 0.000004\n",
      "2023-05-11 11:48:47,033 epoch 5 - iter 222/740 - loss 0.00515680 - time (sec): 35.86 - samples/sec: 621.37 - lr: 0.000004\n",
      "2023-05-11 11:48:59,147 epoch 5 - iter 296/740 - loss 0.00492386 - time (sec): 47.97 - samples/sec: 628.26 - lr: 0.000004\n",
      "2023-05-11 11:49:11,964 epoch 5 - iter 370/740 - loss 0.00424394 - time (sec): 60.79 - samples/sec: 621.74 - lr: 0.000004\n",
      "2023-05-11 11:49:24,347 epoch 5 - iter 444/740 - loss 0.00419966 - time (sec): 73.17 - samples/sec: 629.46 - lr: 0.000004\n",
      "2023-05-11 11:49:36,715 epoch 5 - iter 518/740 - loss 0.00482153 - time (sec): 85.54 - samples/sec: 628.58 - lr: 0.000004\n",
      "2023-05-11 11:49:48,507 epoch 5 - iter 592/740 - loss 0.00526980 - time (sec): 97.33 - samples/sec: 625.88 - lr: 0.000004\n",
      "2023-05-11 11:50:00,143 epoch 5 - iter 666/740 - loss 0.00495954 - time (sec): 108.97 - samples/sec: 621.06 - lr: 0.000004\n",
      "2023-05-11 11:50:11,852 epoch 5 - iter 740/740 - loss 0.00475973 - time (sec): 120.68 - samples/sec: 628.32 - lr: 0.000004\n",
      "2023-05-11 11:50:11,852 ----------------------------------------------------------------------------------------------------\n",
      "2023-05-11 11:50:11,852 EPOCH 5 done: loss 0.0048 - lr 0.000004\n"
     ]
    },
    {
     "name": "stderr",
     "output_type": "stream",
     "text": [
      "100%|██████████| 109/109 [00:05<00:00, 19.52it/s]"
     ]
    },
    {
     "name": "stdout",
     "output_type": "stream",
     "text": [
      "2023-05-11 11:50:17,438 Evaluating as a multi-label problem: False\n",
      "2023-05-11 11:50:17,450 DEV : loss 0.006160549819469452 - f1-score (micro avg)  0.9167\n",
      "2023-05-11 11:50:17,465 ----------------------------------------------------------------------------------------------------\n"
     ]
    },
    {
     "name": "stderr",
     "output_type": "stream",
     "text": [
      "\n"
     ]
    },
    {
     "name": "stdout",
     "output_type": "stream",
     "text": [
      "2023-05-11 11:50:29,286 epoch 6 - iter 74/740 - loss 0.00025116 - time (sec): 11.82 - samples/sec: 672.42 - lr: 0.000004\n",
      "2023-05-11 11:50:40,860 epoch 6 - iter 148/740 - loss 0.00119227 - time (sec): 23.40 - samples/sec: 659.07 - lr: 0.000004\n",
      "2023-05-11 11:50:52,597 epoch 6 - iter 222/740 - loss 0.00217283 - time (sec): 35.13 - samples/sec: 634.78 - lr: 0.000004\n",
      "2023-05-11 11:51:04,586 epoch 6 - iter 296/740 - loss 0.00161754 - time (sec): 47.12 - samples/sec: 638.04 - lr: 0.000004\n",
      "2023-05-11 11:51:16,358 epoch 6 - iter 370/740 - loss 0.00145269 - time (sec): 58.89 - samples/sec: 632.93 - lr: 0.000004\n",
      "2023-05-11 11:51:27,947 epoch 6 - iter 444/740 - loss 0.00249145 - time (sec): 70.48 - samples/sec: 634.67 - lr: 0.000004\n",
      "2023-05-11 11:51:39,716 epoch 6 - iter 518/740 - loss 0.00347984 - time (sec): 82.25 - samples/sec: 643.19 - lr: 0.000004\n",
      "2023-05-11 11:51:51,486 epoch 6 - iter 592/740 - loss 0.00330447 - time (sec): 94.02 - samples/sec: 644.89 - lr: 0.000004\n",
      "2023-05-11 11:52:03,155 epoch 6 - iter 666/740 - loss 0.00311174 - time (sec): 105.69 - samples/sec: 645.81 - lr: 0.000004\n",
      "2023-05-11 11:52:14,746 epoch 6 - iter 740/740 - loss 0.00358014 - time (sec): 117.28 - samples/sec: 646.51 - lr: 0.000004\n",
      "2023-05-11 11:52:14,746 ----------------------------------------------------------------------------------------------------\n",
      "2023-05-11 11:52:14,746 EPOCH 6 done: loss 0.0036 - lr 0.000004\n"
     ]
    },
    {
     "name": "stderr",
     "output_type": "stream",
     "text": [
      "100%|██████████| 109/109 [00:05<00:00, 19.20it/s]"
     ]
    },
    {
     "name": "stdout",
     "output_type": "stream",
     "text": [
      "2023-05-11 11:52:20,423 Evaluating as a multi-label problem: False\n",
      "2023-05-11 11:52:20,438 DEV : loss 0.010306851007044315 - f1-score (micro avg)  0.807\n",
      "2023-05-11 11:52:20,454 ----------------------------------------------------------------------------------------------------\n"
     ]
    },
    {
     "name": "stderr",
     "output_type": "stream",
     "text": [
      "\n"
     ]
    },
    {
     "name": "stdout",
     "output_type": "stream",
     "text": [
      "2023-05-11 11:52:32,305 epoch 7 - iter 74/740 - loss 0.00133389 - time (sec): 11.85 - samples/sec: 617.31 - lr: 0.000004\n",
      "2023-05-11 11:52:44,039 epoch 7 - iter 148/740 - loss 0.00288742 - time (sec): 23.59 - samples/sec: 647.57 - lr: 0.000004\n",
      "2023-05-11 11:52:55,810 epoch 7 - iter 222/740 - loss 0.00193766 - time (sec): 35.36 - samples/sec: 645.89 - lr: 0.000004\n",
      "2023-05-11 11:53:07,591 epoch 7 - iter 296/740 - loss 0.00265815 - time (sec): 47.14 - samples/sec: 653.63 - lr: 0.000004\n",
      "2023-05-11 11:53:19,155 epoch 7 - iter 370/740 - loss 0.00245048 - time (sec): 58.70 - samples/sec: 646.55 - lr: 0.000004\n",
      "2023-05-11 11:53:30,961 epoch 7 - iter 444/740 - loss 0.00318770 - time (sec): 70.51 - samples/sec: 646.90 - lr: 0.000004\n",
      "2023-05-11 11:53:42,831 epoch 7 - iter 518/740 - loss 0.00293909 - time (sec): 82.38 - samples/sec: 650.91 - lr: 0.000004\n",
      "2023-05-11 11:53:54,644 epoch 7 - iter 592/740 - loss 0.00264915 - time (sec): 94.19 - samples/sec: 652.48 - lr: 0.000004\n",
      "2023-05-11 11:54:06,208 epoch 7 - iter 666/740 - loss 0.00240242 - time (sec): 105.75 - samples/sec: 647.19 - lr: 0.000004\n",
      "2023-05-11 11:54:18,052 epoch 7 - iter 740/740 - loss 0.00251374 - time (sec): 117.60 - samples/sec: 644.76 - lr: 0.000004\n",
      "2023-05-11 11:54:18,052 ----------------------------------------------------------------------------------------------------\n",
      "2023-05-11 11:54:18,052 EPOCH 7 done: loss 0.0025 - lr 0.000004\n"
     ]
    },
    {
     "name": "stderr",
     "output_type": "stream",
     "text": [
      "100%|██████████| 109/109 [00:05<00:00, 20.38it/s]"
     ]
    },
    {
     "name": "stdout",
     "output_type": "stream",
     "text": [
      "2023-05-11 11:54:23,402 Evaluating as a multi-label problem: False\n",
      "2023-05-11 11:54:23,417 DEV : loss 0.006988785229623318 - f1-score (micro avg)  0.898\n",
      "2023-05-11 11:54:23,433 ----------------------------------------------------------------------------------------------------\n"
     ]
    },
    {
     "name": "stderr",
     "output_type": "stream",
     "text": [
      "\n"
     ]
    },
    {
     "name": "stdout",
     "output_type": "stream",
     "text": [
      "2023-05-11 11:54:35,436 epoch 8 - iter 74/740 - loss 0.00084326 - time (sec): 12.00 - samples/sec: 649.33 - lr: 0.000004\n",
      "2023-05-11 11:54:47,283 epoch 8 - iter 148/740 - loss 0.00063159 - time (sec): 23.85 - samples/sec: 626.25 - lr: 0.000004\n",
      "2023-05-11 11:54:59,058 epoch 8 - iter 222/740 - loss 0.00045847 - time (sec): 35.62 - samples/sec: 629.20 - lr: 0.000004\n",
      "2023-05-11 11:55:10,806 epoch 8 - iter 296/740 - loss 0.00092376 - time (sec): 47.37 - samples/sec: 639.71 - lr: 0.000004\n",
      "2023-05-11 11:55:22,787 epoch 8 - iter 370/740 - loss 0.00084651 - time (sec): 59.35 - samples/sec: 632.50 - lr: 0.000003\n",
      "2023-05-11 11:55:34,575 epoch 8 - iter 444/740 - loss 0.00148265 - time (sec): 71.14 - samples/sec: 628.93 - lr: 0.000003\n",
      "2023-05-11 11:55:46,320 epoch 8 - iter 518/740 - loss 0.00155671 - time (sec): 82.89 - samples/sec: 637.89 - lr: 0.000003\n",
      "2023-05-11 11:55:57,999 epoch 8 - iter 592/740 - loss 0.00151248 - time (sec): 94.57 - samples/sec: 637.79 - lr: 0.000003\n",
      "2023-05-11 11:56:09,999 epoch 8 - iter 666/740 - loss 0.00136400 - time (sec): 106.57 - samples/sec: 640.19 - lr: 0.000003\n",
      "2023-05-11 11:56:21,757 epoch 8 - iter 740/740 - loss 0.00123235 - time (sec): 118.32 - samples/sec: 640.81 - lr: 0.000003\n",
      "2023-05-11 11:56:21,757 ----------------------------------------------------------------------------------------------------\n",
      "2023-05-11 11:56:21,757 EPOCH 8 done: loss 0.0012 - lr 0.000003\n"
     ]
    },
    {
     "name": "stderr",
     "output_type": "stream",
     "text": [
      "100%|██████████| 109/109 [00:05<00:00, 20.45it/s]"
     ]
    },
    {
     "name": "stdout",
     "output_type": "stream",
     "text": [
      "2023-05-11 11:56:27,088 Evaluating as a multi-label problem: False\n",
      "2023-05-11 11:56:27,098 DEV : loss 0.007825836539268494 - f1-score (micro avg)  0.898\n",
      "2023-05-11 11:56:27,126 ----------------------------------------------------------------------------------------------------\n"
     ]
    },
    {
     "name": "stderr",
     "output_type": "stream",
     "text": [
      "\n"
     ]
    },
    {
     "name": "stdout",
     "output_type": "stream",
     "text": [
      "2023-05-11 11:56:38,918 epoch 9 - iter 74/740 - loss 0.00287555 - time (sec): 11.79 - samples/sec: 605.92 - lr: 0.000003\n",
      "2023-05-11 11:56:50,710 epoch 9 - iter 148/740 - loss 0.00163586 - time (sec): 23.58 - samples/sec: 620.80 - lr: 0.000003\n",
      "2023-05-11 11:57:02,465 epoch 9 - iter 222/740 - loss 0.00156587 - time (sec): 35.34 - samples/sec: 639.98 - lr: 0.000003\n",
      "2023-05-11 11:57:14,248 epoch 9 - iter 296/740 - loss 0.00117609 - time (sec): 47.12 - samples/sec: 646.51 - lr: 0.000003\n",
      "2023-05-11 11:57:26,090 epoch 9 - iter 370/740 - loss 0.00114172 - time (sec): 58.96 - samples/sec: 644.41 - lr: 0.000003\n",
      "2023-05-11 11:57:37,980 epoch 9 - iter 444/740 - loss 0.00112579 - time (sec): 70.85 - samples/sec: 644.70 - lr: 0.000003\n",
      "2023-05-11 11:57:49,638 epoch 9 - iter 518/740 - loss 0.00096288 - time (sec): 82.51 - samples/sec: 653.17 - lr: 0.000003\n",
      "2023-05-11 11:58:01,299 epoch 9 - iter 592/740 - loss 0.00087087 - time (sec): 94.17 - samples/sec: 646.82 - lr: 0.000003\n",
      "2023-05-11 11:58:13,168 epoch 9 - iter 666/740 - loss 0.00101522 - time (sec): 106.04 - samples/sec: 644.03 - lr: 0.000003\n",
      "2023-05-11 11:58:25,038 epoch 9 - iter 740/740 - loss 0.00106925 - time (sec): 117.91 - samples/sec: 643.05 - lr: 0.000003\n",
      "2023-05-11 11:58:25,038 ----------------------------------------------------------------------------------------------------\n",
      "2023-05-11 11:58:25,038 EPOCH 9 done: loss 0.0011 - lr 0.000003\n"
     ]
    },
    {
     "name": "stderr",
     "output_type": "stream",
     "text": [
      "100%|██████████| 109/109 [00:05<00:00, 20.13it/s]"
     ]
    },
    {
     "name": "stdout",
     "output_type": "stream",
     "text": [
      "2023-05-11 11:58:30,454 Evaluating as a multi-label problem: False\n",
      "2023-05-11 11:58:30,466 DEV : loss 0.011428730562329292 - f1-score (micro avg)  0.8148\n",
      "2023-05-11 11:58:30,478 ----------------------------------------------------------------------------------------------------\n"
     ]
    },
    {
     "name": "stderr",
     "output_type": "stream",
     "text": [
      "\n"
     ]
    },
    {
     "name": "stdout",
     "output_type": "stream",
     "text": [
      "2023-05-11 11:58:42,269 epoch 10 - iter 74/740 - loss 0.00122464 - time (sec): 11.79 - samples/sec: 606.18 - lr: 0.000003\n",
      "2023-05-11 11:58:53,870 epoch 10 - iter 148/740 - loss 0.00091329 - time (sec): 23.39 - samples/sec: 641.18 - lr: 0.000003\n",
      "2023-05-11 11:59:05,722 epoch 10 - iter 222/740 - loss 0.00082225 - time (sec): 35.24 - samples/sec: 650.74 - lr: 0.000003\n",
      "2023-05-11 11:59:17,563 epoch 10 - iter 296/740 - loss 0.00061827 - time (sec): 47.08 - samples/sec: 651.37 - lr: 0.000003\n",
      "2023-05-11 11:59:29,311 epoch 10 - iter 370/740 - loss 0.00051144 - time (sec): 58.83 - samples/sec: 633.50 - lr: 0.000003\n",
      "2023-05-11 11:59:41,010 epoch 10 - iter 444/740 - loss 0.00050840 - time (sec): 70.53 - samples/sec: 627.01 - lr: 0.000003\n",
      "2023-05-11 11:59:52,869 epoch 10 - iter 518/740 - loss 0.00043189 - time (sec): 82.39 - samples/sec: 637.02 - lr: 0.000003\n",
      "2023-05-11 12:00:04,696 epoch 10 - iter 592/740 - loss 0.00037441 - time (sec): 94.22 - samples/sec: 646.02 - lr: 0.000003\n",
      "2023-05-11 12:00:16,341 epoch 10 - iter 666/740 - loss 0.00045695 - time (sec): 105.86 - samples/sec: 646.79 - lr: 0.000003\n",
      "2023-05-11 12:00:28,508 epoch 10 - iter 740/740 - loss 0.00042998 - time (sec): 118.03 - samples/sec: 642.41 - lr: 0.000003\n",
      "2023-05-11 12:00:28,508 ----------------------------------------------------------------------------------------------------\n",
      "2023-05-11 12:00:28,508 EPOCH 10 done: loss 0.0004 - lr 0.000003\n"
     ]
    },
    {
     "name": "stderr",
     "output_type": "stream",
     "text": [
      "100%|██████████| 109/109 [00:05<00:00, 19.87it/s]"
     ]
    },
    {
     "name": "stdout",
     "output_type": "stream",
     "text": [
      "2023-05-11 12:00:33,995 Evaluating as a multi-label problem: False\n",
      "2023-05-11 12:00:34,005 DEV : loss 0.009739411063492298 - f1-score (micro avg)  0.875\n",
      "2023-05-11 12:00:34,020 ----------------------------------------------------------------------------------------------------\n"
     ]
    },
    {
     "name": "stderr",
     "output_type": "stream",
     "text": [
      "\n"
     ]
    },
    {
     "name": "stdout",
     "output_type": "stream",
     "text": [
      "2023-05-11 12:00:45,738 epoch 11 - iter 74/740 - loss 0.00000691 - time (sec): 11.72 - samples/sec: 611.15 - lr: 0.000003\n",
      "2023-05-11 12:00:57,516 epoch 11 - iter 148/740 - loss 0.00002206 - time (sec): 23.50 - samples/sec: 647.94 - lr: 0.000003\n",
      "2023-05-11 12:01:09,182 epoch 11 - iter 222/740 - loss 0.00001821 - time (sec): 35.16 - samples/sec: 642.29 - lr: 0.000003\n",
      "2023-05-11 12:01:20,867 epoch 11 - iter 296/740 - loss 0.00001578 - time (sec): 46.85 - samples/sec: 634.98 - lr: 0.000003\n",
      "2023-05-11 12:01:32,592 epoch 11 - iter 370/740 - loss 0.00016505 - time (sec): 58.57 - samples/sec: 637.49 - lr: 0.000003\n",
      "2023-05-11 12:01:44,651 epoch 11 - iter 444/740 - loss 0.00014048 - time (sec): 70.63 - samples/sec: 646.74 - lr: 0.000003\n",
      "2023-05-11 12:01:56,523 epoch 11 - iter 518/740 - loss 0.00012173 - time (sec): 82.50 - samples/sec: 644.65 - lr: 0.000003\n",
      "2023-05-11 12:02:08,304 epoch 11 - iter 592/740 - loss 0.00029219 - time (sec): 94.28 - samples/sec: 652.51 - lr: 0.000003\n",
      "2023-05-11 12:02:19,976 epoch 11 - iter 666/740 - loss 0.00036479 - time (sec): 105.96 - samples/sec: 653.09 - lr: 0.000003\n",
      "2023-05-11 12:02:31,714 epoch 11 - iter 740/740 - loss 0.00055614 - time (sec): 117.69 - samples/sec: 644.24 - lr: 0.000003\n",
      "2023-05-11 12:02:31,714 ----------------------------------------------------------------------------------------------------\n",
      "2023-05-11 12:02:31,714 EPOCH 11 done: loss 0.0006 - lr 0.000003\n"
     ]
    },
    {
     "name": "stderr",
     "output_type": "stream",
     "text": [
      "100%|██████████| 109/109 [00:05<00:00, 20.41it/s]"
     ]
    },
    {
     "name": "stdout",
     "output_type": "stream",
     "text": [
      "2023-05-11 12:02:37,065 Evaluating as a multi-label problem: False\n",
      "2023-05-11 12:02:37,075 DEV : loss 0.011730236932635307 - f1-score (micro avg)  0.88\n",
      "2023-05-11 12:02:37,085 ----------------------------------------------------------------------------------------------------\n"
     ]
    },
    {
     "name": "stderr",
     "output_type": "stream",
     "text": [
      "\n"
     ]
    },
    {
     "name": "stdout",
     "output_type": "stream",
     "text": [
      "2023-05-11 12:02:49,083 epoch 12 - iter 74/740 - loss 0.00029097 - time (sec): 12.00 - samples/sec: 593.99 - lr: 0.000002\n",
      "2023-05-11 12:03:00,887 epoch 12 - iter 148/740 - loss 0.00022499 - time (sec): 23.80 - samples/sec: 619.57 - lr: 0.000002\n",
      "2023-05-11 12:03:12,578 epoch 12 - iter 222/740 - loss 0.00046202 - time (sec): 35.49 - samples/sec: 618.20 - lr: 0.000002\n",
      "2023-05-11 12:03:24,430 epoch 12 - iter 296/740 - loss 0.00035340 - time (sec): 47.35 - samples/sec: 609.80 - lr: 0.000002\n",
      "2023-05-11 12:03:36,453 epoch 12 - iter 370/740 - loss 0.00063249 - time (sec): 59.37 - samples/sec: 620.13 - lr: 0.000002\n",
      "2023-05-11 12:03:48,348 epoch 12 - iter 444/740 - loss 0.00108058 - time (sec): 71.26 - samples/sec: 629.05 - lr: 0.000002\n",
      "2023-05-11 12:04:00,228 epoch 12 - iter 518/740 - loss 0.00091832 - time (sec): 83.14 - samples/sec: 635.17 - lr: 0.000002\n",
      "2023-05-11 12:04:11,946 epoch 12 - iter 592/740 - loss 0.00095823 - time (sec): 94.86 - samples/sec: 631.09 - lr: 0.000002\n",
      "2023-05-11 12:04:23,797 epoch 12 - iter 666/740 - loss 0.00085086 - time (sec): 106.71 - samples/sec: 634.41 - lr: 0.000002\n",
      "2023-05-11 12:04:35,530 epoch 12 - iter 740/740 - loss 0.00088692 - time (sec): 118.45 - samples/sec: 640.15 - lr: 0.000002\n",
      "2023-05-11 12:04:35,530 ----------------------------------------------------------------------------------------------------\n",
      "2023-05-11 12:04:35,530 EPOCH 12 done: loss 0.0009 - lr 0.000002\n"
     ]
    },
    {
     "name": "stderr",
     "output_type": "stream",
     "text": [
      "100%|██████████| 109/109 [00:05<00:00, 20.36it/s]"
     ]
    },
    {
     "name": "stdout",
     "output_type": "stream",
     "text": [
      "2023-05-11 12:04:40,883 Evaluating as a multi-label problem: False\n",
      "2023-05-11 12:04:40,903 DEV : loss 0.011304088868200779 - f1-score (micro avg)  0.84\n",
      "2023-05-11 12:04:40,913 ----------------------------------------------------------------------------------------------------\n"
     ]
    },
    {
     "name": "stderr",
     "output_type": "stream",
     "text": [
      "\n"
     ]
    },
    {
     "name": "stdout",
     "output_type": "stream",
     "text": [
      "2023-05-11 12:04:52,859 epoch 13 - iter 74/740 - loss 0.00000811 - time (sec): 11.95 - samples/sec: 660.82 - lr: 0.000002\n",
      "2023-05-11 12:05:04,558 epoch 13 - iter 148/740 - loss 0.00033647 - time (sec): 23.65 - samples/sec: 634.00 - lr: 0.000002\n",
      "2023-05-11 12:05:16,377 epoch 13 - iter 222/740 - loss 0.00022215 - time (sec): 35.46 - samples/sec: 652.57 - lr: 0.000002\n",
      "2023-05-11 12:05:28,288 epoch 13 - iter 296/740 - loss 0.00066458 - time (sec): 47.37 - samples/sec: 647.01 - lr: 0.000002\n",
      "2023-05-11 12:05:40,257 epoch 13 - iter 370/740 - loss 0.00074176 - time (sec): 59.34 - samples/sec: 649.75 - lr: 0.000002\n",
      "2023-05-11 12:05:51,855 epoch 13 - iter 444/740 - loss 0.00063532 - time (sec): 70.94 - samples/sec: 641.73 - lr: 0.000002\n",
      "2023-05-11 12:06:03,587 epoch 13 - iter 518/740 - loss 0.00054841 - time (sec): 82.67 - samples/sec: 640.62 - lr: 0.000002\n",
      "2023-05-11 12:06:15,469 epoch 13 - iter 592/740 - loss 0.00048077 - time (sec): 94.56 - samples/sec: 639.82 - lr: 0.000002\n",
      "2023-05-11 12:06:27,589 epoch 13 - iter 666/740 - loss 0.00042318 - time (sec): 106.68 - samples/sec: 645.75 - lr: 0.000002\n",
      "2023-05-11 12:06:39,194 epoch 13 - iter 740/740 - loss 0.00038537 - time (sec): 118.28 - samples/sec: 641.04 - lr: 0.000002\n",
      "2023-05-11 12:06:39,194 ----------------------------------------------------------------------------------------------------\n",
      "2023-05-11 12:06:39,194 EPOCH 13 done: loss 0.0004 - lr 0.000002\n"
     ]
    },
    {
     "name": "stderr",
     "output_type": "stream",
     "text": [
      "100%|██████████| 109/109 [00:05<00:00, 20.24it/s]"
     ]
    },
    {
     "name": "stdout",
     "output_type": "stream",
     "text": [
      "2023-05-11 12:06:44,579 Evaluating as a multi-label problem: False\n",
      "2023-05-11 12:06:44,589 DEV : loss 0.013175737112760544 - f1-score (micro avg)  0.8571\n",
      "2023-05-11 12:06:44,599 ----------------------------------------------------------------------------------------------------\n"
     ]
    },
    {
     "name": "stderr",
     "output_type": "stream",
     "text": [
      "\n"
     ]
    },
    {
     "name": "stdout",
     "output_type": "stream",
     "text": [
      "2023-05-11 12:06:56,458 epoch 14 - iter 74/740 - loss 0.00045557 - time (sec): 11.86 - samples/sec: 653.95 - lr: 0.000002\n",
      "2023-05-11 12:07:08,463 epoch 14 - iter 148/740 - loss 0.00022705 - time (sec): 23.86 - samples/sec: 672.18 - lr: 0.000002\n",
      "2023-05-11 12:07:20,278 epoch 14 - iter 222/740 - loss 0.00015786 - time (sec): 35.68 - samples/sec: 655.60 - lr: 0.000002\n",
      "2023-05-11 12:07:32,174 epoch 14 - iter 296/740 - loss 0.00044107 - time (sec): 47.57 - samples/sec: 657.15 - lr: 0.000002\n",
      "2023-05-11 12:07:43,969 epoch 14 - iter 370/740 - loss 0.00045876 - time (sec): 59.37 - samples/sec: 667.76 - lr: 0.000002\n",
      "2023-05-11 12:07:55,664 epoch 14 - iter 444/740 - loss 0.00061821 - time (sec): 71.07 - samples/sec: 654.00 - lr: 0.000002\n",
      "2023-05-11 12:08:07,330 epoch 14 - iter 518/740 - loss 0.00057181 - time (sec): 82.73 - samples/sec: 650.86 - lr: 0.000002\n",
      "2023-05-11 12:08:19,055 epoch 14 - iter 592/740 - loss 0.00055313 - time (sec): 94.46 - samples/sec: 648.03 - lr: 0.000002\n",
      "2023-05-11 12:08:30,660 epoch 14 - iter 666/740 - loss 0.00049453 - time (sec): 106.06 - samples/sec: 646.32 - lr: 0.000002\n",
      "2023-05-11 12:08:42,496 epoch 14 - iter 740/740 - loss 0.00044765 - time (sec): 117.90 - samples/sec: 643.13 - lr: 0.000002\n",
      "2023-05-11 12:08:42,496 ----------------------------------------------------------------------------------------------------\n",
      "2023-05-11 12:08:42,496 EPOCH 14 done: loss 0.0004 - lr 0.000002\n"
     ]
    },
    {
     "name": "stderr",
     "output_type": "stream",
     "text": [
      "100%|██████████| 109/109 [00:05<00:00, 20.40it/s]"
     ]
    },
    {
     "name": "stdout",
     "output_type": "stream",
     "text": [
      "2023-05-11 12:08:47,838 Evaluating as a multi-label problem: False\n",
      "2023-05-11 12:08:47,849 DEV : loss 0.010653418488800526 - f1-score (micro avg)  0.8696\n",
      "2023-05-11 12:08:47,860 ----------------------------------------------------------------------------------------------------\n"
     ]
    },
    {
     "name": "stderr",
     "output_type": "stream",
     "text": [
      "\n"
     ]
    },
    {
     "name": "stdout",
     "output_type": "stream",
     "text": [
      "2023-05-11 12:08:59,880 epoch 15 - iter 74/740 - loss 0.00001118 - time (sec): 12.01 - samples/sec: 581.15 - lr: 0.000002\n",
      "2023-05-11 12:09:11,662 epoch 15 - iter 148/740 - loss 0.00002104 - time (sec): 23.79 - samples/sec: 625.53 - lr: 0.000002\n",
      "2023-05-11 12:09:23,512 epoch 15 - iter 222/740 - loss 0.00009229 - time (sec): 35.64 - samples/sec: 629.98 - lr: 0.000002\n",
      "2023-05-11 12:09:35,310 epoch 15 - iter 296/740 - loss 0.00007003 - time (sec): 47.44 - samples/sec: 633.20 - lr: 0.000002\n",
      "2023-05-11 12:09:47,154 epoch 15 - iter 370/740 - loss 0.00018737 - time (sec): 59.29 - samples/sec: 643.01 - lr: 0.000002\n",
      "2023-05-11 12:09:59,230 epoch 15 - iter 444/740 - loss 0.00070970 - time (sec): 71.36 - samples/sec: 651.92 - lr: 0.000002\n",
      "2023-05-11 12:10:10,975 epoch 15 - iter 518/740 - loss 0.00075481 - time (sec): 83.11 - samples/sec: 650.38 - lr: 0.000001\n",
      "2023-05-11 12:10:22,663 epoch 15 - iter 592/740 - loss 0.00073916 - time (sec): 94.80 - samples/sec: 642.82 - lr: 0.000001\n",
      "2023-05-11 12:10:34,523 epoch 15 - iter 666/740 - loss 0.00082073 - time (sec): 106.65 - samples/sec: 639.51 - lr: 0.000001\n",
      "2023-05-11 12:10:46,298 epoch 15 - iter 740/740 - loss 0.00073873 - time (sec): 118.43 - samples/sec: 640.23 - lr: 0.000001\n",
      "2023-05-11 12:10:46,298 ----------------------------------------------------------------------------------------------------\n",
      "2023-05-11 12:10:46,298 EPOCH 15 done: loss 0.0007 - lr 0.000001\n"
     ]
    },
    {
     "name": "stderr",
     "output_type": "stream",
     "text": [
      "100%|██████████| 109/109 [00:05<00:00, 20.39it/s]"
     ]
    },
    {
     "name": "stdout",
     "output_type": "stream",
     "text": [
      "2023-05-11 12:10:51,655 Evaluating as a multi-label problem: False\n",
      "2023-05-11 12:10:51,665 DEV : loss 0.010693499818444252 - f1-score (micro avg)  0.8696\n",
      "2023-05-11 12:10:51,675 ----------------------------------------------------------------------------------------------------\n"
     ]
    },
    {
     "name": "stderr",
     "output_type": "stream",
     "text": [
      "\n"
     ]
    },
    {
     "name": "stdout",
     "output_type": "stream",
     "text": [
      "2023-05-11 12:11:03,545 epoch 16 - iter 74/740 - loss 0.00124469 - time (sec): 11.87 - samples/sec: 631.40 - lr: 0.000001\n",
      "2023-05-11 12:11:15,224 epoch 16 - iter 148/740 - loss 0.00062416 - time (sec): 23.55 - samples/sec: 636.66 - lr: 0.000001\n",
      "2023-05-11 12:11:26,779 epoch 16 - iter 222/740 - loss 0.00074944 - time (sec): 35.10 - samples/sec: 637.15 - lr: 0.000001\n",
      "2023-05-11 12:11:38,643 epoch 16 - iter 296/740 - loss 0.00071582 - time (sec): 46.97 - samples/sec: 650.42 - lr: 0.000001\n",
      "2023-05-11 12:11:50,356 epoch 16 - iter 370/740 - loss 0.00057361 - time (sec): 58.68 - samples/sec: 651.57 - lr: 0.000001\n",
      "2023-05-11 12:12:02,080 epoch 16 - iter 444/740 - loss 0.00051212 - time (sec): 70.41 - samples/sec: 642.22 - lr: 0.000001\n",
      "2023-05-11 12:12:13,845 epoch 16 - iter 518/740 - loss 0.00050608 - time (sec): 82.17 - samples/sec: 645.26 - lr: 0.000001\n",
      "2023-05-11 12:12:25,471 epoch 16 - iter 592/740 - loss 0.00061170 - time (sec): 93.80 - samples/sec: 642.19 - lr: 0.000001\n",
      "2023-05-11 12:12:37,326 epoch 16 - iter 666/740 - loss 0.00066987 - time (sec): 105.65 - samples/sec: 645.80 - lr: 0.000001\n",
      "2023-05-11 12:12:49,035 epoch 16 - iter 740/740 - loss 0.00060326 - time (sec): 117.36 - samples/sec: 646.07 - lr: 0.000001\n",
      "2023-05-11 12:12:49,035 ----------------------------------------------------------------------------------------------------\n",
      "2023-05-11 12:12:49,035 EPOCH 16 done: loss 0.0006 - lr 0.000001\n"
     ]
    },
    {
     "name": "stderr",
     "output_type": "stream",
     "text": [
      "100%|██████████| 109/109 [00:05<00:00, 20.24it/s]"
     ]
    },
    {
     "name": "stdout",
     "output_type": "stream",
     "text": [
      "2023-05-11 12:12:54,430 Evaluating as a multi-label problem: False\n",
      "2023-05-11 12:12:54,440 DEV : loss 0.014632590115070343 - f1-score (micro avg)  0.84\n",
      "2023-05-11 12:12:54,460 ----------------------------------------------------------------------------------------------------\n"
     ]
    },
    {
     "name": "stderr",
     "output_type": "stream",
     "text": [
      "\n"
     ]
    },
    {
     "name": "stdout",
     "output_type": "stream",
     "text": [
      "2023-05-11 12:13:06,371 epoch 17 - iter 74/740 - loss 0.00010046 - time (sec): 11.91 - samples/sec: 694.73 - lr: 0.000001\n",
      "2023-05-11 12:13:17,953 epoch 17 - iter 148/740 - loss 0.00005604 - time (sec): 23.49 - samples/sec: 658.54 - lr: 0.000001\n",
      "2023-05-11 12:13:29,815 epoch 17 - iter 222/740 - loss 0.00003918 - time (sec): 35.35 - samples/sec: 659.48 - lr: 0.000001\n",
      "2023-05-11 12:13:41,617 epoch 17 - iter 296/740 - loss 0.00003031 - time (sec): 47.16 - samples/sec: 659.08 - lr: 0.000001\n",
      "2023-05-11 12:13:53,385 epoch 17 - iter 370/740 - loss 0.00002646 - time (sec): 58.92 - samples/sec: 655.50 - lr: 0.000001\n",
      "2023-05-11 12:14:05,096 epoch 17 - iter 444/740 - loss 0.00006217 - time (sec): 70.64 - samples/sec: 643.24 - lr: 0.000001\n",
      "2023-05-11 12:14:16,952 epoch 17 - iter 518/740 - loss 0.00010914 - time (sec): 82.49 - samples/sec: 645.39 - lr: 0.000001\n",
      "2023-05-11 12:14:28,865 epoch 17 - iter 592/740 - loss 0.00010042 - time (sec): 94.41 - samples/sec: 647.14 - lr: 0.000001\n",
      "2023-05-11 12:14:40,416 epoch 17 - iter 666/740 - loss 0.00009030 - time (sec): 105.96 - samples/sec: 643.74 - lr: 0.000001\n",
      "2023-05-11 12:14:52,341 epoch 17 - iter 740/740 - loss 0.00013088 - time (sec): 117.88 - samples/sec: 643.22 - lr: 0.000001\n",
      "2023-05-11 12:14:52,341 ----------------------------------------------------------------------------------------------------\n",
      "2023-05-11 12:14:52,341 EPOCH 17 done: loss 0.0001 - lr 0.000001\n"
     ]
    },
    {
     "name": "stderr",
     "output_type": "stream",
     "text": [
      "100%|██████████| 109/109 [00:05<00:00, 20.24it/s]"
     ]
    },
    {
     "name": "stdout",
     "output_type": "stream",
     "text": [
      "2023-05-11 12:14:57,735 Evaluating as a multi-label problem: False\n",
      "2023-05-11 12:14:57,755 DEV : loss 0.0108136972412467 - f1-score (micro avg)  0.8511\n"
     ]
    },
    {
     "name": "stderr",
     "output_type": "stream",
     "text": [
      "\n"
     ]
    },
    {
     "name": "stdout",
     "output_type": "stream",
     "text": [
      "2023-05-11 12:14:57,765 ----------------------------------------------------------------------------------------------------\n",
      "2023-05-11 12:15:09,564 epoch 18 - iter 74/740 - loss 0.00014502 - time (sec): 11.80 - samples/sec: 715.26 - lr: 0.000001\n",
      "2023-05-11 12:15:21,509 epoch 18 - iter 148/740 - loss 0.00007863 - time (sec): 23.74 - samples/sec: 668.84 - lr: 0.000001\n",
      "2023-05-11 12:15:33,214 epoch 18 - iter 222/740 - loss 0.00005544 - time (sec): 35.45 - samples/sec: 651.61 - lr: 0.000001\n",
      "2023-05-11 12:15:44,799 epoch 18 - iter 296/740 - loss 0.00004336 - time (sec): 47.03 - samples/sec: 650.48 - lr: 0.000001\n",
      "2023-05-11 12:15:56,592 epoch 18 - iter 370/740 - loss 0.00003597 - time (sec): 58.83 - samples/sec: 646.00 - lr: 0.000001\n",
      "2023-05-11 12:16:08,508 epoch 18 - iter 444/740 - loss 0.00004871 - time (sec): 70.74 - samples/sec: 649.37 - lr: 0.000001\n",
      "2023-05-11 12:16:20,322 epoch 18 - iter 518/740 - loss 0.00004236 - time (sec): 82.56 - samples/sec: 647.43 - lr: 0.000001\n",
      "2023-05-11 12:16:31,906 epoch 18 - iter 592/740 - loss 0.00003777 - time (sec): 94.14 - samples/sec: 647.93 - lr: 0.000001\n",
      "2023-05-11 12:16:43,661 epoch 18 - iter 666/740 - loss 0.00003489 - time (sec): 105.90 - samples/sec: 646.47 - lr: 0.000001\n",
      "2023-05-11 12:16:55,334 epoch 18 - iter 740/740 - loss 0.00015481 - time (sec): 117.57 - samples/sec: 644.93 - lr: 0.000001\n",
      "2023-05-11 12:16:55,334 ----------------------------------------------------------------------------------------------------\n",
      "2023-05-11 12:16:55,334 EPOCH 18 done: loss 0.0002 - lr 0.000001\n"
     ]
    },
    {
     "name": "stderr",
     "output_type": "stream",
     "text": [
      "100%|██████████| 109/109 [00:05<00:00, 20.44it/s]"
     ]
    },
    {
     "name": "stdout",
     "output_type": "stream",
     "text": [
      "2023-05-11 12:17:00,678 Evaluating as a multi-label problem: False\n",
      "2023-05-11 12:17:00,688 DEV : loss 0.009400546550750732 - f1-score (micro avg)  0.875\n"
     ]
    },
    {
     "name": "stderr",
     "output_type": "stream",
     "text": [
      "\n"
     ]
    },
    {
     "name": "stdout",
     "output_type": "stream",
     "text": [
      "2023-05-11 12:17:00,698 ----------------------------------------------------------------------------------------------------\n",
      "2023-05-11 12:17:12,451 epoch 19 - iter 74/740 - loss 0.00000360 - time (sec): 11.75 - samples/sec: 611.51 - lr: 0.000001\n",
      "2023-05-11 12:17:24,245 epoch 19 - iter 148/740 - loss 0.00000373 - time (sec): 23.55 - samples/sec: 598.49 - lr: 0.000001\n",
      "2023-05-11 12:17:35,823 epoch 19 - iter 222/740 - loss 0.00008011 - time (sec): 35.13 - samples/sec: 614.76 - lr: 0.000000\n",
      "2023-05-11 12:17:47,705 epoch 19 - iter 296/740 - loss 0.00006071 - time (sec): 47.01 - samples/sec: 615.59 - lr: 0.000000\n",
      "2023-05-11 12:17:59,730 epoch 19 - iter 370/740 - loss 0.00004895 - time (sec): 59.03 - samples/sec: 618.65 - lr: 0.000000\n",
      "2023-05-11 12:18:11,634 epoch 19 - iter 444/740 - loss 0.00004184 - time (sec): 70.94 - samples/sec: 624.59 - lr: 0.000000\n",
      "2023-05-11 12:18:23,398 epoch 19 - iter 518/740 - loss 0.00004964 - time (sec): 82.70 - samples/sec: 639.62 - lr: 0.000000\n",
      "2023-05-11 12:18:35,353 epoch 19 - iter 592/740 - loss 0.00004443 - time (sec): 94.65 - samples/sec: 632.02 - lr: 0.000000\n",
      "2023-05-11 12:18:47,297 epoch 19 - iter 666/740 - loss 0.00003946 - time (sec): 106.60 - samples/sec: 637.30 - lr: 0.000000\n",
      "2023-05-11 12:18:59,031 epoch 19 - iter 740/740 - loss 0.00003568 - time (sec): 118.33 - samples/sec: 640.76 - lr: 0.000000\n",
      "2023-05-11 12:18:59,031 ----------------------------------------------------------------------------------------------------\n",
      "2023-05-11 12:18:59,031 EPOCH 19 done: loss 0.0000 - lr 0.000000\n"
     ]
    },
    {
     "name": "stderr",
     "output_type": "stream",
     "text": [
      "100%|██████████| 109/109 [00:05<00:00, 20.33it/s]"
     ]
    },
    {
     "name": "stdout",
     "output_type": "stream",
     "text": [
      "2023-05-11 12:19:04,394 Evaluating as a multi-label problem: False\n"
     ]
    },
    {
     "name": "stderr",
     "output_type": "stream",
     "text": [
      "\n"
     ]
    },
    {
     "name": "stdout",
     "output_type": "stream",
     "text": [
      "2023-05-11 12:19:04,404 DEV : loss 0.009506147354841232 - f1-score (micro avg)  0.875\n",
      "2023-05-11 12:19:04,414 ----------------------------------------------------------------------------------------------------\n",
      "2023-05-11 12:19:16,378 epoch 20 - iter 74/740 - loss 0.00000364 - time (sec): 11.96 - samples/sec: 626.95 - lr: 0.000000\n",
      "2023-05-11 12:19:28,211 epoch 20 - iter 148/740 - loss 0.00022826 - time (sec): 23.80 - samples/sec: 624.03 - lr: 0.000000\n",
      "2023-05-11 12:19:40,209 epoch 20 - iter 222/740 - loss 0.00015047 - time (sec): 35.80 - samples/sec: 635.94 - lr: 0.000000\n",
      "2023-05-11 12:19:52,311 epoch 20 - iter 296/740 - loss 0.00011014 - time (sec): 47.90 - samples/sec: 657.40 - lr: 0.000000\n",
      "2023-05-11 12:20:04,321 epoch 20 - iter 370/740 - loss 0.00011239 - time (sec): 59.91 - samples/sec: 656.43 - lr: 0.000000\n",
      "2023-05-11 12:20:15,971 epoch 20 - iter 444/740 - loss 0.00009504 - time (sec): 71.56 - samples/sec: 655.66 - lr: 0.000000\n",
      "2023-05-11 12:20:28,029 epoch 20 - iter 518/740 - loss 0.00008384 - time (sec): 83.62 - samples/sec: 653.29 - lr: 0.000000\n",
      "2023-05-11 12:20:39,683 epoch 20 - iter 592/740 - loss 0.00007514 - time (sec): 95.27 - samples/sec: 644.92 - lr: 0.000000\n",
      "2023-05-11 12:20:51,597 epoch 20 - iter 666/740 - loss 0.00006766 - time (sec): 107.18 - samples/sec: 639.91 - lr: 0.000000\n",
      "2023-05-11 12:21:03,122 epoch 20 - iter 740/740 - loss 0.00006149 - time (sec): 118.71 - samples/sec: 638.73 - lr: 0.000000\n",
      "2023-05-11 12:21:03,122 ----------------------------------------------------------------------------------------------------\n",
      "2023-05-11 12:21:03,122 EPOCH 20 done: loss 0.0001 - lr 0.000000\n"
     ]
    },
    {
     "name": "stderr",
     "output_type": "stream",
     "text": [
      "100%|██████████| 109/109 [00:05<00:00, 20.12it/s]"
     ]
    },
    {
     "name": "stdout",
     "output_type": "stream",
     "text": [
      "2023-05-11 12:21:08,550 Evaluating as a multi-label problem: False\n"
     ]
    },
    {
     "name": "stderr",
     "output_type": "stream",
     "text": [
      "\n"
     ]
    },
    {
     "name": "stdout",
     "output_type": "stream",
     "text": [
      "2023-05-11 12:21:08,550 DEV : loss 0.00950508750975132 - f1-score (micro avg)  0.875\n",
      "2023-05-11 12:21:09,070 ----------------------------------------------------------------------------------------------------\n",
      "2023-05-11 12:21:09,070 Testing using last state of model ...\n"
     ]
    },
    {
     "name": "stderr",
     "output_type": "stream",
     "text": [
      "100%|██████████| 161/161 [00:07<00:00, 20.74it/s]"
     ]
    },
    {
     "name": "stdout",
     "output_type": "stream",
     "text": [
      "2023-05-11 12:21:16,832 Evaluating as a multi-label problem: False\n",
      "2023-05-11 12:21:16,842 0.9667\t0.9508\t0.9587\t0.9206\n",
      "2023-05-11 12:21:16,842 \n",
      "Results:\n",
      "- F-score (micro) 0.9587\n",
      "- F-score (macro) 0.9587\n",
      "- Accuracy 0.9206\n",
      "\n",
      "By class:\n",
      "              precision    recall  f1-score   support\n",
      "\n",
      "         LOC     0.9667    0.9508    0.9587        61\n",
      "\n",
      "   micro avg     0.9667    0.9508    0.9587        61\n",
      "   macro avg     0.9667    0.9508    0.9587        61\n",
      "weighted avg     0.9667    0.9508    0.9587        61\n",
      "\n",
      "2023-05-11 12:21:16,842 ----------------------------------------------------------------------------------------------------\n"
     ]
    },
    {
     "name": "stderr",
     "output_type": "stream",
     "text": [
      "\n"
     ]
    },
    {
     "data": {
      "text/plain": [
       "{'test_score': 0.9586776859504132,\n",
       " 'dev_score_history': [0.76,\n",
       "  0.7906976744186047,\n",
       "  0.8444444444444443,\n",
       "  0.8461538461538461,\n",
       "  0.9166666666666666,\n",
       "  0.8070175438596492,\n",
       "  0.8979591836734695,\n",
       "  0.8979591836734695,\n",
       "  0.8148148148148148,\n",
       "  0.875,\n",
       "  0.8799999999999999,\n",
       "  0.8400000000000001,\n",
       "  0.8571428571428572,\n",
       "  0.8695652173913044,\n",
       "  0.8695652173913044,\n",
       "  0.8400000000000001,\n",
       "  0.8510638297872339,\n",
       "  0.875,\n",
       "  0.875,\n",
       "  0.875],\n",
       " 'train_loss_history': [0.6442571589953667,\n",
       "  0.0136616201387218,\n",
       "  0.009767910805060523,\n",
       "  0.006167142361363968,\n",
       "  0.0047597321708500355,\n",
       "  0.0035801430018898156,\n",
       "  0.002513744380047087,\n",
       "  0.0012323484908934796,\n",
       "  0.0010692499069052627,\n",
       "  0.00042997606189612943,\n",
       "  0.0005561392065093275,\n",
       "  0.000886919845380431,\n",
       "  0.0003853678629491798,\n",
       "  0.00044764765106009637,\n",
       "  0.0007387315251185995,\n",
       "  0.0006032638166711998,\n",
       "  0.00013087595514463065,\n",
       "  0.00015481206236612983,\n",
       "  3.567651127016461e-05,\n",
       "  6.14914537839758e-05],\n",
       " 'dev_loss_history': [0.006225401069968939,\n",
       "  0.010048153810203075,\n",
       "  0.008190130814909935,\n",
       "  0.008882056921720505,\n",
       "  0.006160549819469452,\n",
       "  0.010306851007044315,\n",
       "  0.006988785229623318,\n",
       "  0.007825836539268494,\n",
       "  0.011428730562329292,\n",
       "  0.009739411063492298,\n",
       "  0.011730236932635307,\n",
       "  0.011304088868200779,\n",
       "  0.013175737112760544,\n",
       "  0.010653418488800526,\n",
       "  0.010693499818444252,\n",
       "  0.014632590115070343,\n",
       "  0.0108136972412467,\n",
       "  0.009400546550750732,\n",
       "  0.009506147354841232,\n",
       "  0.00950508750975132]}"
      ]
     },
     "execution_count": 13,
     "metadata": {},
     "output_type": "execute_result"
    }
   ],
   "source": [
    "gc.collect()\n",
    "torch.cuda.empty_cache()\n",
    "trainer.fine_tune('ner-bertSpanish-fineTuning2', learning_rate=5.0e-6, mini_batch_size=4, mini_batch_chunk_size=1, max_epochs=20)"
   ]
  },
  {
   "cell_type": "code",
   "execution_count": null,
   "id": "58353dc4",
   "metadata": {},
   "outputs": [],
   "source": []
  }
 ],
 "metadata": {
  "kernelspec": {
   "display_name": "Python 3 (ipykernel)",
   "language": "python",
   "name": "python3"
  },
  "language_info": {
   "codemirror_mode": {
    "name": "ipython",
    "version": 3
   },
   "file_extension": ".py",
   "mimetype": "text/x-python",
   "name": "python",
   "nbconvert_exporter": "python",
   "pygments_lexer": "ipython3",
   "version": "3.8.16"
  }
 },
 "nbformat": 4,
 "nbformat_minor": 5
}
