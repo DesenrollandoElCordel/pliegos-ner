{
 "cells": [
  {
   "cell_type": "code",
   "execution_count": 1,
   "id": "1873b9b9",
   "metadata": {},
   "outputs": [],
   "source": [
    "import os\n",
    "import re\n",
    "from flair.data import Sentence\n",
    "from flair.models import SequenceTagger\n",
    "import unicodedata"
   ]
  },
  {
   "cell_type": "code",
   "execution_count": 2,
   "id": "ff0977f4",
   "metadata": {},
   "outputs": [
    {
     "name": "stdout",
     "output_type": "stream",
     "text": [
      "2024-02-16 12:22:29,427 SequenceTagger predicts: Dictionary with 5 tags: O, S-LOC, B-LOC, E-LOC, I-LOC\n"
     ]
    }
   ],
   "source": [
    "#Modèle Flair\n",
    "tagger = SequenceTagger.load(\"/Users/pauline/Documents/Sandoz/pliegos-ner/final-model.pt\")"
   ]
  },
  {
   "cell_type": "code",
   "execution_count": 3,
   "id": "9813a22e",
   "metadata": {},
   "outputs": [],
   "source": [
    "folder = '/Users/pauline/Documents/Sandoz/pliegos-ner/Varios-ner/Data/TEXT'\n",
    "output_folder = '/Users/pauline/Documents/Sandoz/pliegos-ner/Varios-ner/Data/IOB'"
   ]
  },
  {
   "cell_type": "code",
   "execution_count": 4,
   "id": "96afaa9c",
   "metadata": {},
   "outputs": [],
   "source": [
    "if not os.path.exists(output_folder):\n",
    "    os.makedirs(output_folder)"
   ]
  },
  {
   "cell_type": "code",
   "execution_count": 5,
   "id": "66282846",
   "metadata": {},
   "outputs": [],
   "source": [
    "for f in os.listdir(folder):\n",
    "    if f.endswith('.txt'):\n",
    "        txt_path = os.path.join(folder, f)\n",
    "        label, ext = os.path.splitext(f)\n",
    "\n",
    "        with open(txt_path, encoding='utf-8') as t:\n",
    "            text = t.read()\n",
    "            # Normalisation NFC\n",
    "            text_normalized = unicodedata.normalize('NFC', text)\n",
    "            sentence = Sentence(text_normalized)\n",
    "            tagger.predict(sentence)\n",
    "\n",
    "            output = \"\"        \n",
    "            for entity in sentence.get_spans('ner'):\n",
    "                prefix = 'B-'\n",
    "                for token in entity:\n",
    "                    token.set_label('ner-bio', prefix + entity.tag)\n",
    "                    prefix = 'I-'\n",
    "\n",
    "            for token in sentence:\n",
    "                output += str(token.get_label('ner-bio'))\n",
    "                output += \"\\n\"\n",
    "\n",
    "            result = re.sub(r\"([A-Z]\\w+\\[[0-9]+\\]:\\s\\\")([A-Z a-z 0-9 .,?!:¿¡…\\'\\*´ `’‘℣Đ=æǝ°>\\—\\-\\_–\\(\\)\\¬\\«\\»;~óòáàâíìñéèúüùäëïöÀÁÉÈÊËÍÌÎÏÑÓÒÔÖÚÙÛÜ\\\"\\\"]+)(\\\"\\s→\\s)([A-Z-]*)(\\s\\([0-9 .]*\\))\", r\"\\2 \\4\", output)\n",
    "\n",
    "            output_file_name = f'Ner_{label}.txt'\n",
    "            with open(os.path.join(output_folder, output_file_name), 'w', encoding='utf-8') as x:\n",
    "                x.write(result)"
   ]
  },
  {
   "cell_type": "code",
   "execution_count": null,
   "id": "10bbccb6",
   "metadata": {},
   "outputs": [],
   "source": []
  }
 ],
 "metadata": {
  "kernelspec": {
   "display_name": "Python 3 (ipykernel)",
   "language": "python",
   "name": "python3"
  },
  "language_info": {
   "codemirror_mode": {
    "name": "ipython",
    "version": 3
   },
   "file_extension": ".py",
   "mimetype": "text/x-python",
   "name": "python",
   "nbconvert_exporter": "python",
   "pygments_lexer": "ipython3",
   "version": "3.10.8"
  }
 },
 "nbformat": 4,
 "nbformat_minor": 5
}
